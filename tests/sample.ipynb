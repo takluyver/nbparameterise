{
 "cells": [
  {
   "cell_type": "code",
   "execution_count": 1,
   "metadata": {},
   "outputs": [
    {
     "name": "stdout",
     "output_type": "stream",
     "text": [
      "This should be ignored\n"
     ]
    }
   ],
   "source": [
    "a = \"Some text\"\n",
    "b = 12\n",
    "b2 = -7\n",
    "c = 14.0\n",
    "d = False  # comment:bool\n",
    "e = [0, 1.0, True, \"text\", [0, 1]]\n",
    "f = {0: 0, \"item\": True, \"dict\": {0: \"text\"}}  # comment:dict\n",
    "g = None\n",
    "print(\"This should be ignored\")"
   ]
  },
  {
   "cell_type": "code",
   "execution_count": 2,
   "metadata": {},
   "outputs": [
    {
     "data": {
      "text/plain": [
       "('Some text', 12, 14.0, False)"
      ]
     },
     "execution_count": 2,
     "metadata": {},
     "output_type": "execute_result"
    }
   ],
   "source": [
    "a, b, c, d"
   ]
  }
 ],
 "metadata": {
  "celltoolbar": "Edit Metadata",
  "kernelspec": {
   "display_name": "Python 3",
   "language": "python",
   "name": "python3"
  },
  "language_info": {
   "codemirror_mode": {
    "name": "ipython",
    "version": 3
   },
   "file_extension": ".py",
   "mimetype": "text/x-python",
   "name": "python",
   "nbconvert_exporter": "python",
   "pygments_lexer": "ipython3",
   "version": "3.9.2"
  },
  "parameterise": {
   "c": {
    "display_name": "Sea"
   }
  }
 },
 "nbformat": 4,
 "nbformat_minor": 1
}

{
 "cells": [
  {
   "cell_type": "code",
   "execution_count": 1,
   "metadata": {},
   "outputs": [
    {
     "name": "stdout",
     "output_type": "stream",
     "text": [
      "This should be ignored\n"
     ]
    }
   ],
   "source": [
    "a = \"\"\"\\\n",
    "Some text\"\"\"\n",
    "b: int = 12\n",
    "b2 = -7; c = 14.0\n",
    "d = False  # comment:bool\n",
    "e = [0, 1.0, True, \"text\", [0, 1]]\n",
    "f = {  # comment:dict\n",
    "    0: 0,\n",
    "    \"item\": True,\n",
    "    \"dict\": {0: \"text\"}\n",
    "}\n",
    "print(\"This should be ignored\")\n",
    "\n",
    "café = \"καφές\"  # Not only ASCII\n",
    "other_assignment = b ** 2  # Not recognised as a parameter\n",
    "\n",
    "def func():\n",
    "    not_a_parameter = 5  # Should not be found\n",
    "    return c"
   ]
  },
  {
   "cell_type": "code",
   "execution_count": 2,
   "metadata": {},
   "outputs": [
    {
     "data": {
      "text/plain": [
       "('Some text', 12, 14.0, False)"
      ]
     },
     "execution_count": 2,
     "metadata": {},
     "output_type": "execute_result"
    }
   ],
   "source": [
    "a, b, c, d"
   ]
  }
 ],
 "metadata": {
  "celltoolbar": "Edit Metadata",
  "kernelspec": {
   "display_name": "Python 3 (ipykernel)",
   "language": "python",
   "name": "python3"
  },
  "language_info": {
   "codemirror_mode": {
    "name": "ipython",
    "version": 3
   },
   "file_extension": ".py",
   "mimetype": "text/x-python",
   "name": "python",
   "nbconvert_exporter": "python",
   "pygments_lexer": "ipython3",
   "version": "3.11.1"
  },
  "parameterise": {
   "c": {
    "display_name": "Sea"
   }
  }
 },
 "nbformat": 4,
 "nbformat_minor": 1
}

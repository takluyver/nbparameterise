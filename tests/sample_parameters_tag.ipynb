{
 "cells": [
  {
   "cell_type": "code",
   "execution_count": null,
   "metadata": {},
   "outputs": [],
   "source": [
    "woooo=\"1123\""
   ]
  },
  {
   "cell_type": "code",
   "execution_count": null,
   "metadata": {
    "tags": [
     "Parameters"
    ]
   },
   "outputs": [],
   "source": [
    "a = \"Some text\"\n",
    "b = 12\n",
    "b2 = -7\n",
    "c = 14.0\n",
    "d = False  # comment:bool\n",
    "e = [0, 1.0, True, \"text\", [0, 1]]\n",
    "f = {0: 0, \"item\": True, \"dict\": {0: \"text\"}}  # comment:dict\n",
    "print(\"This should be ignored\")"
   ]
  },
  {
   "cell_type": "code",
   "execution_count": null,
   "metadata": {},
   "outputs": [],
   "source": [
    "a, b, c, d, woooo"
   ]
  }
 ],
 "metadata": {
  "celltoolbar": "Tags",
  "kernelspec": {
   "display_name": "Python 3 (ipykernel)",
   "language": "python",
   "name": "python3"
  },
  "language_info": {
   "codemirror_mode": {
    "name": "ipython",
    "version": 3
   },
   "file_extension": ".py",
   "mimetype": "text/x-python",
   "name": "python",
   "nbconvert_exporter": "python",
   "pygments_lexer": "ipython3",
   "version": "3.8.10"
  },
  "parameterise": {
   "c": {
    "display_name": "Sea"
   }
  }
 },
 "nbformat": 4,
 "nbformat_minor": 1
}

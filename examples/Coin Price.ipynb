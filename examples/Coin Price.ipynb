{
 "cells": [
  {
   "cell_type": "markdown",
   "metadata": {},
   "source": [
    "Coin Prices  displays. Code cribbed from [this notebook](http://nbviewer.ipython.org/github/twiecki/financial-analysis-python-tutorial/blob/master/1.%20Pandas%20Basics.ipynb) by [Thomas Wiecki](https://github.com/twiecki)."
   ]
  },
  {
   "cell_type": "code",
   "execution_count": null,
   "metadata": {
    "tags": [
     "Parameters"
    ]
   },
   "outputs": [],
   "source": [
    "COIN = ['bitcoin','eth','doge']   # Display names are stored in notebook metadata"
   ]
  },
  {
   "cell_type": "code",
   "execution_count": null,
   "metadata": {},
   "outputs": [],
   "source": [
    "import requests\n",
    "try:\n",
    "    headers = {\n",
    "        'X-Mboum-Secret': \"demo\"\n",
    "    }\n",
    "    res = requests.get(\n",
    "        f\"https://mboum.com/api/v1/cr/crypto/coin/quote?key={COIN}\", \n",
    "        headers=headers\n",
    "    )\n",
    "    data = res.json()['data']\n",
    "    for key in data:\n",
    "        print(key,\"\\t\", data[key])\n",
    "except Exception as e:\n",
    "    print(e)"
   ]
  },
  {
   "cell_type": "code",
   "execution_count": null,
   "metadata": {},
   "outputs": [],
   "source": []
  }
 ],
 "metadata": {
  "kernelspec": {
   "display_name": "Python 3 (ipykernel)",
   "language": "python",
   "name": "python3"
  },
  "language_info": {
   "codemirror_mode": {
    "name": "ipython",
    "version": 3
   },
   "file_extension": ".py",
   "mimetype": "text/x-python",
   "name": "python",
   "nbconvert_exporter": "python",
   "pygments_lexer": "ipython3",
   "version": "3.8.10"
  },
  "parameterise": {
   "stock": {
    "display_name": "Stock symbol"
   }
  }
 },
 "nbformat": 4,
 "nbformat_minor": 1
}
